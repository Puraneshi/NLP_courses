{
 "cells": [
  {
   "cell_type": "markdown",
   "source": [
    "## Topic Modeling\n",
    "### We'll use NLP clustering techniques to aggregate documents(text) into topic groups"
   ],
   "metadata": {
    "collapsed": false,
    "pycharm": {
     "name": "#%% md\n"
    }
   }
  },
  {
   "cell_type": "code",
   "execution_count": 1,
   "outputs": [],
   "source": [
    "from gensim.models.ldamodel import LdaModel\n",
    "from sklearn.datasets import fetch_20newsgroups\n",
    "import pandas as pd"
   ],
   "metadata": {
    "collapsed": false,
    "pycharm": {
     "name": "#%%\n"
    }
   }
  },
  {
   "cell_type": "code",
   "execution_count": 2,
   "outputs": [],
   "source": [
    "dataset = fetch_20newsgroups(\n",
    "    subset='all',\n",
    "    shuffle=False,\n",
    "    remove=('headers', 'footers', 'quotes'))"
   ],
   "metadata": {
    "collapsed": false,
    "pycharm": {
     "name": "#%%\n"
    }
   }
  },
  {
   "cell_type": "code",
   "execution_count": 11,
   "outputs": [
    {
     "data": {
      "text/plain": "(dict_keys(['data', 'filenames', 'target_names', 'target', 'DESCR']),\n ['alt.atheism',\n  'comp.graphics',\n  'comp.os.ms-windows.misc',\n  'comp.sys.ibm.pc.hardware',\n  'comp.sys.mac.hardware',\n  'comp.windows.x',\n  'misc.forsale',\n  'rec.autos',\n  'rec.motorcycles',\n  'rec.sport.baseball',\n  'rec.sport.hockey',\n  'sci.crypt',\n  'sci.electronics',\n  'sci.med',\n  'sci.space',\n  'soc.religion.christian',\n  'talk.politics.guns',\n  'talk.politics.mideast',\n  'talk.politics.misc',\n  'talk.religion.misc'])"
     },
     "execution_count": 11,
     "metadata": {},
     "output_type": "execute_result"
    }
   ],
   "source": [
    "dataset.keys(), dataset.target_names"
   ],
   "metadata": {
    "collapsed": false,
    "pycharm": {
     "name": "#%%\n"
    }
   }
  },
  {
   "cell_type": "code",
   "execution_count": 13,
   "outputs": [
    {
     "data": {
      "text/plain": "'alt.atheism'"
     },
     "execution_count": 13,
     "metadata": {},
     "output_type": "execute_result"
    }
   ],
   "source": [],
   "metadata": {
    "collapsed": false,
    "pycharm": {
     "name": "#%%\n"
    }
   }
  },
  {
   "cell_type": "code",
   "execution_count": 12,
   "outputs": [
    {
     "data": {
      "text/plain": "                                                    news  label\n0      \\nmorgan and guzman will have era's 1 run high...      9\n1      Well, I just got my Centris 610 yesterday.  It...      4\n2      Archive-name: cryptography-faq/part10\\nLast-mo...     11\n3      To the best of my knowledge there aren't any p...      4\n4      \\n\\nI think that domestication will change beh...      0\n...                                                  ...    ...\n18841  \\nWhy are circuit boards green?  The material ...     12\n18842  \\n\\nAnybody who drove into somebody like that ...      8\n18843  We were told that the resolution on the 5FGe c...      4\n18844  CAD Setup For Sale:\\n\\nG486PLB Local Bus Mothe...      6\n18845  \\n\\n \\nSame engine, different state of tune (l...      7\n\n[18846 rows x 2 columns]",
      "text/html": "<div>\n<style scoped>\n    .dataframe tbody tr th:only-of-type {\n        vertical-align: middle;\n    }\n\n    .dataframe tbody tr th {\n        vertical-align: top;\n    }\n\n    .dataframe thead th {\n        text-align: right;\n    }\n</style>\n<table border=\"1\" class=\"dataframe\">\n  <thead>\n    <tr style=\"text-align: right;\">\n      <th></th>\n      <th>news</th>\n      <th>label</th>\n    </tr>\n  </thead>\n  <tbody>\n    <tr>\n      <th>0</th>\n      <td>\\nmorgan and guzman will have era's 1 run high...</td>\n      <td>9</td>\n    </tr>\n    <tr>\n      <th>1</th>\n      <td>Well, I just got my Centris 610 yesterday.  It...</td>\n      <td>4</td>\n    </tr>\n    <tr>\n      <th>2</th>\n      <td>Archive-name: cryptography-faq/part10\\nLast-mo...</td>\n      <td>11</td>\n    </tr>\n    <tr>\n      <th>3</th>\n      <td>To the best of my knowledge there aren't any p...</td>\n      <td>4</td>\n    </tr>\n    <tr>\n      <th>4</th>\n      <td>\\n\\nI think that domestication will change beh...</td>\n      <td>0</td>\n    </tr>\n    <tr>\n      <th>...</th>\n      <td>...</td>\n      <td>...</td>\n    </tr>\n    <tr>\n      <th>18841</th>\n      <td>\\nWhy are circuit boards green?  The material ...</td>\n      <td>12</td>\n    </tr>\n    <tr>\n      <th>18842</th>\n      <td>\\n\\nAnybody who drove into somebody like that ...</td>\n      <td>8</td>\n    </tr>\n    <tr>\n      <th>18843</th>\n      <td>We were told that the resolution on the 5FGe c...</td>\n      <td>4</td>\n    </tr>\n    <tr>\n      <th>18844</th>\n      <td>CAD Setup For Sale:\\n\\nG486PLB Local Bus Mothe...</td>\n      <td>6</td>\n    </tr>\n    <tr>\n      <th>18845</th>\n      <td>\\n\\n \\nSame engine, different state of tune (l...</td>\n      <td>7</td>\n    </tr>\n  </tbody>\n</table>\n<p>18846 rows × 2 columns</p>\n</div>"
     },
     "execution_count": 12,
     "metadata": {},
     "output_type": "execute_result"
    }
   ],
   "source": [
    "df = pd.DataFrame({'news': dataset.data, 'label': dataset.target})\n",
    "df"
   ],
   "metadata": {
    "collapsed": false,
    "pycharm": {
     "name": "#%%\n"
    }
   }
  },
  {
   "cell_type": "code",
   "execution_count": 14,
   "outputs": [
    {
     "data": {
      "text/plain": "0           rec.sport.baseball\n1        comp.sys.mac.hardware\n2                    sci.crypt\n3        comp.sys.mac.hardware\n4                  alt.atheism\n                 ...          \n18841          sci.electronics\n18842          rec.motorcycles\n18843    comp.sys.mac.hardware\n18844             misc.forsale\n18845                rec.autos\nName: label, Length: 18846, dtype: object"
     },
     "execution_count": 14,
     "metadata": {},
     "output_type": "execute_result"
    }
   ],
   "source": [
    "label_names = df['label'].apply(lambda x: dataset.target_names[x])\n",
    "label_names"
   ],
   "metadata": {
    "collapsed": false,
    "pycharm": {
     "name": "#%%\n"
    }
   }
  },
  {
   "cell_type": "markdown",
   "source": [
    "## Preprocessing with GENSIM"
   ],
   "metadata": {
    "collapsed": false,
    "pycharm": {
     "name": "#%% md\n"
    }
   }
  },
  {
   "cell_type": "code",
   "execution_count": null,
   "outputs": [],
   "source": [],
   "metadata": {
    "collapsed": false,
    "pycharm": {
     "name": "#%%\n"
    }
   }
  }
 ],
 "metadata": {
  "kernelspec": {
   "display_name": "Python 3",
   "language": "python",
   "name": "python3"
  },
  "language_info": {
   "codemirror_mode": {
    "name": "ipython",
    "version": 2
   },
   "file_extension": ".py",
   "mimetype": "text/x-python",
   "name": "python",
   "nbconvert_exporter": "python",
   "pygments_lexer": "ipython2",
   "version": "2.7.6"
  }
 },
 "nbformat": 4,
 "nbformat_minor": 0
}