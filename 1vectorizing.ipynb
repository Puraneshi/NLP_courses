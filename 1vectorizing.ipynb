{
 "cells": [
  {
   "cell_type": "code",
   "execution_count": 4,
   "outputs": [],
   "source": [
    "import pandas as pd\n",
    "import re\n",
    "import string\n",
    "import nltk\n",
    "pd.set_option('display.max_colwidth', 100)\n",
    "\n",
    "stopwords = nltk.corpus.stopwords.words('english')\n",
    "ps = nltk.PorterStemmer()\n",
    "wl = nltk.WordNetLemmatizer()\n",
    "\n",
    "data = pd.read_csv(\"SMSSpamCollection.tsv\", sep='\\t')\n",
    "data.columns = ['label', 'body_text']\n",
    "\n",
    "# also check spaCy and language models"
   ],
   "metadata": {
    "collapsed": false,
    "pycharm": {
     "name": "#%%\n"
    }
   }
  },
  {
   "cell_type": "markdown",
   "source": [
    "## Cleaning\n",
    "We remove punctuations and stopwords(too common words), we turn each document into a list of tokens(words) and we lemmatize each word, meaning we convert words into their root form.\n",
    "\n",
    "(check: lemmatization vs stemming)"
   ],
   "metadata": {
    "collapsed": false,
    "pycharm": {
     "name": "#%% md\n"
    }
   }
  },
  {
   "cell_type": "code",
   "execution_count": 5,
   "outputs": [
    {
     "data": {
      "text/plain": "0       [free, entry, 2, wkly, comp, win, fa, cup, final, tkts, 21st, may, 2005, text, fa, 87121, receiv...\n1                                                         [nah, dont, think, go, usf, life, around, though]\n2                                                    [even, brother, like, speak, treat, like, aid, patent]\n3                                                                                            [date, sunday]\n4       [per, request, melle, melle, oru, minnaminunginte, nurungu, vettam, set, callertune, caller, pre...\n                                                       ...                                                 \n5562    [2nd, time, tried, 2, contact, u, u, 750, pound, prize, 2, claim, easy, call, 087187272008, now1...\n5563                                                                     [ü, b, going, esplanade, fr, home]\n5564                                                                        [pity, mood, soany, suggestion]\n5565       [guy, bitching, acted, like, id, interested, buying, something, else, next, week, gave, u, free]\n5566                                                                                     [rofl, true, name]\nName: body_text, Length: 5567, dtype: object"
     },
     "execution_count": 5,
     "metadata": {},
     "output_type": "execute_result"
    }
   ],
   "source": [
    "def clean_text(text):\n",
    "    text = \"\".join([word.lower() for word in text if word not in string.punctuation])\n",
    "    tokens = re.split('\\W+', text)\n",
    "    text = [wl.lemmatize(word) for word in tokens if word not in stopwords]\n",
    "    return text\n",
    "data['body_text'].apply(clean_text)"
   ],
   "metadata": {
    "collapsed": false,
    "pycharm": {
     "name": "#%%\n"
    }
   }
  },
  {
   "cell_type": "markdown",
   "source": [
    "## Count Vectorizer\n",
    "Each column represents a different word and each row are the occurrences of that word in a document"
   ],
   "metadata": {
    "collapsed": false,
    "pycharm": {
     "name": "#%% md\n"
    }
   }
  },
  {
   "cell_type": "code",
   "execution_count": 6,
   "outputs": [
    {
     "data": {
      "text/plain": "(5567, 8911)"
     },
     "execution_count": 6,
     "metadata": {},
     "output_type": "execute_result"
    }
   ],
   "source": [
    "from sklearn.feature_extraction.text import CountVectorizer\n",
    "\n",
    "count_vect = CountVectorizer(analyzer=clean_text)\n",
    "X_counts = count_vect.fit_transform(data['body_text'])\n",
    "X_counts.shape"
   ],
   "metadata": {
    "collapsed": false,
    "pycharm": {
     "name": "#%%\n"
    }
   }
  },
  {
   "cell_type": "code",
   "execution_count": 7,
   "outputs": [
    {
     "data": {
      "text/plain": "         0  008704050406  0089my  0121  01223585236  01223585334  0125698789  \\\n0     0  0             0       0     0            0            0           0   \n1     0  0             0       0     0            0            0           0   \n2     0  0             0       0     0            0            0           0   \n3     0  0             0       0     0            0            0           0   \n4     0  0             0       0     0            0            0           0   \n...  .. ..           ...     ...   ...          ...          ...         ...   \n5562  0  0             0       0     0            0            0           0   \n5563  0  0             0       0     0            0            0           0   \n5564  0  0             0       0     0            0            0           0   \n5565  0  0             0       0     0            0            0           0   \n5566  0  0             0       0     0            0            0           0   \n\n      02  020603  ...  zindgi  zoe  zogtorius  zoom  zouk  zyada  é  ü  üll  \\\n0      0       0  ...       0    0          0     0     0      0  0  0    0   \n1      0       0  ...       0    0          0     0     0      0  0  0    0   \n2      0       0  ...       0    0          0     0     0      0  0  0    0   \n3      0       0  ...       0    0          0     0     0      0  0  0    0   \n4      0       0  ...       0    0          0     0     0      0  0  0    0   \n...   ..     ...  ...     ...  ...        ...   ...   ...    ... .. ..  ...   \n5562   0       0  ...       0    0          0     0     0      0  0  0    0   \n5563   0       0  ...       0    0          0     0     0      0  0  1    0   \n5564   0       0  ...       0    0          0     0     0      0  0  0    0   \n5565   0       0  ...       0    0          0     0     0      0  0  0    0   \n5566   0       0  ...       0    0          0     0     0      0  0  0    0   \n\n      〨ud  \n0       0  \n1       0  \n2       0  \n3       0  \n4       0  \n...   ...  \n5562    0  \n5563    0  \n5564    0  \n5565    0  \n5566    0  \n\n[5567 rows x 8911 columns]",
      "text/html": "<div>\n<style scoped>\n    .dataframe tbody tr th:only-of-type {\n        vertical-align: middle;\n    }\n\n    .dataframe tbody tr th {\n        vertical-align: top;\n    }\n\n    .dataframe thead th {\n        text-align: right;\n    }\n</style>\n<table border=\"1\" class=\"dataframe\">\n  <thead>\n    <tr style=\"text-align: right;\">\n      <th></th>\n      <th></th>\n      <th>0</th>\n      <th>008704050406</th>\n      <th>0089my</th>\n      <th>0121</th>\n      <th>01223585236</th>\n      <th>01223585334</th>\n      <th>0125698789</th>\n      <th>02</th>\n      <th>020603</th>\n      <th>...</th>\n      <th>zindgi</th>\n      <th>zoe</th>\n      <th>zogtorius</th>\n      <th>zoom</th>\n      <th>zouk</th>\n      <th>zyada</th>\n      <th>é</th>\n      <th>ü</th>\n      <th>üll</th>\n      <th>〨ud</th>\n    </tr>\n  </thead>\n  <tbody>\n    <tr>\n      <th>0</th>\n      <td>0</td>\n      <td>0</td>\n      <td>0</td>\n      <td>0</td>\n      <td>0</td>\n      <td>0</td>\n      <td>0</td>\n      <td>0</td>\n      <td>0</td>\n      <td>0</td>\n      <td>...</td>\n      <td>0</td>\n      <td>0</td>\n      <td>0</td>\n      <td>0</td>\n      <td>0</td>\n      <td>0</td>\n      <td>0</td>\n      <td>0</td>\n      <td>0</td>\n      <td>0</td>\n    </tr>\n    <tr>\n      <th>1</th>\n      <td>0</td>\n      <td>0</td>\n      <td>0</td>\n      <td>0</td>\n      <td>0</td>\n      <td>0</td>\n      <td>0</td>\n      <td>0</td>\n      <td>0</td>\n      <td>0</td>\n      <td>...</td>\n      <td>0</td>\n      <td>0</td>\n      <td>0</td>\n      <td>0</td>\n      <td>0</td>\n      <td>0</td>\n      <td>0</td>\n      <td>0</td>\n      <td>0</td>\n      <td>0</td>\n    </tr>\n    <tr>\n      <th>2</th>\n      <td>0</td>\n      <td>0</td>\n      <td>0</td>\n      <td>0</td>\n      <td>0</td>\n      <td>0</td>\n      <td>0</td>\n      <td>0</td>\n      <td>0</td>\n      <td>0</td>\n      <td>...</td>\n      <td>0</td>\n      <td>0</td>\n      <td>0</td>\n      <td>0</td>\n      <td>0</td>\n      <td>0</td>\n      <td>0</td>\n      <td>0</td>\n      <td>0</td>\n      <td>0</td>\n    </tr>\n    <tr>\n      <th>3</th>\n      <td>0</td>\n      <td>0</td>\n      <td>0</td>\n      <td>0</td>\n      <td>0</td>\n      <td>0</td>\n      <td>0</td>\n      <td>0</td>\n      <td>0</td>\n      <td>0</td>\n      <td>...</td>\n      <td>0</td>\n      <td>0</td>\n      <td>0</td>\n      <td>0</td>\n      <td>0</td>\n      <td>0</td>\n      <td>0</td>\n      <td>0</td>\n      <td>0</td>\n      <td>0</td>\n    </tr>\n    <tr>\n      <th>4</th>\n      <td>0</td>\n      <td>0</td>\n      <td>0</td>\n      <td>0</td>\n      <td>0</td>\n      <td>0</td>\n      <td>0</td>\n      <td>0</td>\n      <td>0</td>\n      <td>0</td>\n      <td>...</td>\n      <td>0</td>\n      <td>0</td>\n      <td>0</td>\n      <td>0</td>\n      <td>0</td>\n      <td>0</td>\n      <td>0</td>\n      <td>0</td>\n      <td>0</td>\n      <td>0</td>\n    </tr>\n    <tr>\n      <th>...</th>\n      <td>...</td>\n      <td>...</td>\n      <td>...</td>\n      <td>...</td>\n      <td>...</td>\n      <td>...</td>\n      <td>...</td>\n      <td>...</td>\n      <td>...</td>\n      <td>...</td>\n      <td>...</td>\n      <td>...</td>\n      <td>...</td>\n      <td>...</td>\n      <td>...</td>\n      <td>...</td>\n      <td>...</td>\n      <td>...</td>\n      <td>...</td>\n      <td>...</td>\n      <td>...</td>\n    </tr>\n    <tr>\n      <th>5562</th>\n      <td>0</td>\n      <td>0</td>\n      <td>0</td>\n      <td>0</td>\n      <td>0</td>\n      <td>0</td>\n      <td>0</td>\n      <td>0</td>\n      <td>0</td>\n      <td>0</td>\n      <td>...</td>\n      <td>0</td>\n      <td>0</td>\n      <td>0</td>\n      <td>0</td>\n      <td>0</td>\n      <td>0</td>\n      <td>0</td>\n      <td>0</td>\n      <td>0</td>\n      <td>0</td>\n    </tr>\n    <tr>\n      <th>5563</th>\n      <td>0</td>\n      <td>0</td>\n      <td>0</td>\n      <td>0</td>\n      <td>0</td>\n      <td>0</td>\n      <td>0</td>\n      <td>0</td>\n      <td>0</td>\n      <td>0</td>\n      <td>...</td>\n      <td>0</td>\n      <td>0</td>\n      <td>0</td>\n      <td>0</td>\n      <td>0</td>\n      <td>0</td>\n      <td>0</td>\n      <td>1</td>\n      <td>0</td>\n      <td>0</td>\n    </tr>\n    <tr>\n      <th>5564</th>\n      <td>0</td>\n      <td>0</td>\n      <td>0</td>\n      <td>0</td>\n      <td>0</td>\n      <td>0</td>\n      <td>0</td>\n      <td>0</td>\n      <td>0</td>\n      <td>0</td>\n      <td>...</td>\n      <td>0</td>\n      <td>0</td>\n      <td>0</td>\n      <td>0</td>\n      <td>0</td>\n      <td>0</td>\n      <td>0</td>\n      <td>0</td>\n      <td>0</td>\n      <td>0</td>\n    </tr>\n    <tr>\n      <th>5565</th>\n      <td>0</td>\n      <td>0</td>\n      <td>0</td>\n      <td>0</td>\n      <td>0</td>\n      <td>0</td>\n      <td>0</td>\n      <td>0</td>\n      <td>0</td>\n      <td>0</td>\n      <td>...</td>\n      <td>0</td>\n      <td>0</td>\n      <td>0</td>\n      <td>0</td>\n      <td>0</td>\n      <td>0</td>\n      <td>0</td>\n      <td>0</td>\n      <td>0</td>\n      <td>0</td>\n    </tr>\n    <tr>\n      <th>5566</th>\n      <td>0</td>\n      <td>0</td>\n      <td>0</td>\n      <td>0</td>\n      <td>0</td>\n      <td>0</td>\n      <td>0</td>\n      <td>0</td>\n      <td>0</td>\n      <td>0</td>\n      <td>...</td>\n      <td>0</td>\n      <td>0</td>\n      <td>0</td>\n      <td>0</td>\n      <td>0</td>\n      <td>0</td>\n      <td>0</td>\n      <td>0</td>\n      <td>0</td>\n      <td>0</td>\n    </tr>\n  </tbody>\n</table>\n<p>5567 rows × 8911 columns</p>\n</div>"
     },
     "execution_count": 7,
     "metadata": {},
     "output_type": "execute_result"
    }
   ],
   "source": [
    "X_counts_df = pd.DataFrame(X_counts.toarray())\n",
    "X_counts_df.columns = count_vect.get_feature_names_out()\n",
    "X_counts_df"
   ],
   "metadata": {
    "collapsed": false,
    "pycharm": {
     "name": "#%%\n"
    }
   }
  },
  {
   "cell_type": "code",
   "execution_count": 8,
   "outputs": [
    {
     "data": {
      "text/plain": "u           1193\ncall         607\n2            482\nim           464\n             423\n            ... \nlambu          1\nlambda         1\nlakh           1\nlaidwant       1\n〨ud            1\nLength: 8911, dtype: int64"
     },
     "execution_count": 8,
     "metadata": {},
     "output_type": "execute_result"
    }
   ],
   "source": [
    "X_counts_df.sum().sort_values(ascending=False)"
   ],
   "metadata": {
    "collapsed": false,
    "pycharm": {
     "name": "#%%\n"
    }
   }
  },
  {
   "cell_type": "markdown",
   "source": [
    "## N-Grams\n",
    "N-Grams are tokens of multiple words, they are used to try and retain the context. \"the tree of knowledge is forbidden\" with n-gram = 3 gives a list [\"the tree of\", \"tree of knowledge\", \"of knowledge is\", \"knowledge is forbidden\"]\n",
    "\n",
    "\n",
    "We need the untokenized clean text to produce our n-gram tokens"
   ],
   "metadata": {
    "collapsed": false,
    "pycharm": {
     "name": "#%% md\n"
    }
   }
  },
  {
   "cell_type": "code",
   "execution_count": 9,
   "outputs": [
    {
     "data": {
      "text/plain": "     label  \\\n0     spam   \n1      ham   \n2      ham   \n3      ham   \n4      ham   \n...    ...   \n5562  spam   \n5563   ham   \n5564   ham   \n5565   ham   \n5566   ham   \n\n                                                                                                body_text  \\\n0     Free entry in 2 a wkly comp to win FA Cup final tkts 21st May 2005. Text FA to 87121 to receive ...   \n1                                           Nah I don't think he goes to usf, he lives around here though   \n2                           Even my brother is not like to speak with me. They treat me like aids patent.   \n3                                                                     I HAVE A DATE ON SUNDAY WITH WILL!!   \n4     As per your request 'Melle Melle (Oru Minnaminunginte Nurungu Vettam)' has been set as your call...   \n...                                                                                                   ...   \n5562  This is the 2nd time we have tried 2 contact u. U have won the £750 Pound prize. 2 claim is easy...   \n5563                                                                 Will ü b going to esplanade fr home?   \n5564                                            Pity, * was in mood for that. So...any other suggestions?   \n5565  The guy did some bitching but I acted like i'd be interested in buying something else next week ...   \n5566                                                                           Rofl. Its true to its name   \n\n                                                                                             cleaned_text  \n0     free entry 2 wkly comp win fa cup final tkts 21st may 2005 text fa 87121 receive entry questions...  \n1                                                                nah dont think go usf life around though  \n2                                                           even brother like speak treat like aid patent  \n3                                                                                             date sunday  \n4     per request melle melle oru minnaminunginte nurungu vettam set callertune caller press 9 copy fr...  \n...                                                                                                   ...  \n5562  2nd time tried 2 contact u u 750 pound prize 2 claim easy call 087187272008 now1 10p per minute ...  \n5563                                                                          ü b going esplanade fr home  \n5564                                                                           pity mood soany suggestion  \n5565                    guy bitching acted like id interested buying something else next week gave u free  \n5566                                                                                       rofl true name  \n\n[5567 rows x 3 columns]",
      "text/html": "<div>\n<style scoped>\n    .dataframe tbody tr th:only-of-type {\n        vertical-align: middle;\n    }\n\n    .dataframe tbody tr th {\n        vertical-align: top;\n    }\n\n    .dataframe thead th {\n        text-align: right;\n    }\n</style>\n<table border=\"1\" class=\"dataframe\">\n  <thead>\n    <tr style=\"text-align: right;\">\n      <th></th>\n      <th>label</th>\n      <th>body_text</th>\n      <th>cleaned_text</th>\n    </tr>\n  </thead>\n  <tbody>\n    <tr>\n      <th>0</th>\n      <td>spam</td>\n      <td>Free entry in 2 a wkly comp to win FA Cup final tkts 21st May 2005. Text FA to 87121 to receive ...</td>\n      <td>free entry 2 wkly comp win fa cup final tkts 21st may 2005 text fa 87121 receive entry questions...</td>\n    </tr>\n    <tr>\n      <th>1</th>\n      <td>ham</td>\n      <td>Nah I don't think he goes to usf, he lives around here though</td>\n      <td>nah dont think go usf life around though</td>\n    </tr>\n    <tr>\n      <th>2</th>\n      <td>ham</td>\n      <td>Even my brother is not like to speak with me. They treat me like aids patent.</td>\n      <td>even brother like speak treat like aid patent</td>\n    </tr>\n    <tr>\n      <th>3</th>\n      <td>ham</td>\n      <td>I HAVE A DATE ON SUNDAY WITH WILL!!</td>\n      <td>date sunday</td>\n    </tr>\n    <tr>\n      <th>4</th>\n      <td>ham</td>\n      <td>As per your request 'Melle Melle (Oru Minnaminunginte Nurungu Vettam)' has been set as your call...</td>\n      <td>per request melle melle oru minnaminunginte nurungu vettam set callertune caller press 9 copy fr...</td>\n    </tr>\n    <tr>\n      <th>...</th>\n      <td>...</td>\n      <td>...</td>\n      <td>...</td>\n    </tr>\n    <tr>\n      <th>5562</th>\n      <td>spam</td>\n      <td>This is the 2nd time we have tried 2 contact u. U have won the £750 Pound prize. 2 claim is easy...</td>\n      <td>2nd time tried 2 contact u u 750 pound prize 2 claim easy call 087187272008 now1 10p per minute ...</td>\n    </tr>\n    <tr>\n      <th>5563</th>\n      <td>ham</td>\n      <td>Will ü b going to esplanade fr home?</td>\n      <td>ü b going esplanade fr home</td>\n    </tr>\n    <tr>\n      <th>5564</th>\n      <td>ham</td>\n      <td>Pity, * was in mood for that. So...any other suggestions?</td>\n      <td>pity mood soany suggestion</td>\n    </tr>\n    <tr>\n      <th>5565</th>\n      <td>ham</td>\n      <td>The guy did some bitching but I acted like i'd be interested in buying something else next week ...</td>\n      <td>guy bitching acted like id interested buying something else next week gave u free</td>\n    </tr>\n    <tr>\n      <th>5566</th>\n      <td>ham</td>\n      <td>Rofl. Its true to its name</td>\n      <td>rofl true name</td>\n    </tr>\n  </tbody>\n</table>\n<p>5567 rows × 3 columns</p>\n</div>"
     },
     "execution_count": 9,
     "metadata": {},
     "output_type": "execute_result"
    }
   ],
   "source": [
    "def untokenized_clean_text(text):\n",
    "    text = \"\".join([word.lower() for word in text if word not in string.punctuation])\n",
    "    tokens = re.split('\\W+', text)\n",
    "    text = \" \".join([wl.lemmatize(word) for word in tokens if word not in stopwords])\n",
    "    return text\n",
    "\n",
    "data['cleaned_text'] = data['body_text'].apply(untokenized_clean_text)\n",
    "data"
   ],
   "metadata": {
    "collapsed": false,
    "pycharm": {
     "name": "#%%\n"
    }
   }
  },
  {
   "cell_type": "code",
   "execution_count": 10,
   "outputs": [
    {
     "data": {
      "text/plain": "((5567, 31621),\n array(['008704050406 sp', '0089my last', '0121 2025050', ...,\n        'üll submitting', 'üll take', '〨ud evening'], dtype=object))"
     },
     "execution_count": 10,
     "metadata": {},
     "output_type": "execute_result"
    }
   ],
   "source": [
    "from sklearn.feature_extraction.text import CountVectorizer\n",
    "\n",
    "# (x,y) where x is the starting range of produced n-grams\n",
    "# and y is the end range of produced n-grams\n",
    "ngram_vect = CountVectorizer(ngram_range=(2,2))\n",
    "X_gram_counts = ngram_vect.fit_transform(data['cleaned_text'])\n",
    "X_gram_counts.shape, ngram_vect.get_feature_names_out()"
   ],
   "metadata": {
    "collapsed": false,
    "pycharm": {
     "name": "#%%\n"
    }
   }
  },
  {
   "cell_type": "code",
   "execution_count": 11,
   "outputs": [
    {
     "data": {
      "text/plain": "      008704050406 sp  0089my last  0121 2025050  01223585236 xx  \\\n0                   0            0             0               0   \n1                   0            0             0               0   \n2                   0            0             0               0   \n3                   0            0             0               0   \n4                   0            0             0               0   \n...               ...          ...           ...             ...   \n5562                0            0             0               0   \n5563                0            0             0               0   \n5564                0            0             0               0   \n5565                0            0             0               0   \n5566                0            0             0               0   \n\n      01223585334 cum  0125698789 ring  02 user  020603 2nd  0207 153  \\\n0                   0                0        0           0         0   \n1                   0                0        0           0         0   \n2                   0                0        0           0         0   \n3                   0                0        0           0         0   \n4                   0                0        0           0         0   \n...               ...              ...      ...         ...       ...   \n5562                0                0        0           0         0   \n5563                0                0        0           0         0   \n5564                0                0        0           0         0   \n5565                0                0        0           0         0   \n5566                0                0        0           0         0   \n\n      02072069400 bx  ...  zoe 18  zoe hit  zogtorius staring  zoom cine  \\\n0                  0  ...       0        0                  0          0   \n1                  0  ...       0        0                  0          0   \n2                  0  ...       0        0                  0          0   \n3                  0  ...       0        0                  0          0   \n4                  0  ...       0        0                  0          0   \n...              ...  ...     ...      ...                ...        ...   \n5562               0  ...       0        0                  0          0   \n5563               0  ...       0        0                  0          0   \n5564               0  ...       0        0                  0          0   \n5565               0  ...       0        0                  0          0   \n5566               0  ...       0        0                  0          0   \n\n      zouk nichols  zyada kisi  üll finish  üll submitting  üll take  \\\n0                0           0           0               0         0   \n1                0           0           0               0         0   \n2                0           0           0               0         0   \n3                0           0           0               0         0   \n4                0           0           0               0         0   \n...            ...         ...         ...             ...       ...   \n5562             0           0           0               0         0   \n5563             0           0           0               0         0   \n5564             0           0           0               0         0   \n5565             0           0           0               0         0   \n5566             0           0           0               0         0   \n\n      〨ud evening  \n0               0  \n1               0  \n2               0  \n3               0  \n4               0  \n...           ...  \n5562            0  \n5563            0  \n5564            0  \n5565            0  \n5566            0  \n\n[5567 rows x 31621 columns]",
      "text/html": "<div>\n<style scoped>\n    .dataframe tbody tr th:only-of-type {\n        vertical-align: middle;\n    }\n\n    .dataframe tbody tr th {\n        vertical-align: top;\n    }\n\n    .dataframe thead th {\n        text-align: right;\n    }\n</style>\n<table border=\"1\" class=\"dataframe\">\n  <thead>\n    <tr style=\"text-align: right;\">\n      <th></th>\n      <th>008704050406 sp</th>\n      <th>0089my last</th>\n      <th>0121 2025050</th>\n      <th>01223585236 xx</th>\n      <th>01223585334 cum</th>\n      <th>0125698789 ring</th>\n      <th>02 user</th>\n      <th>020603 2nd</th>\n      <th>0207 153</th>\n      <th>02072069400 bx</th>\n      <th>...</th>\n      <th>zoe 18</th>\n      <th>zoe hit</th>\n      <th>zogtorius staring</th>\n      <th>zoom cine</th>\n      <th>zouk nichols</th>\n      <th>zyada kisi</th>\n      <th>üll finish</th>\n      <th>üll submitting</th>\n      <th>üll take</th>\n      <th>〨ud evening</th>\n    </tr>\n  </thead>\n  <tbody>\n    <tr>\n      <th>0</th>\n      <td>0</td>\n      <td>0</td>\n      <td>0</td>\n      <td>0</td>\n      <td>0</td>\n      <td>0</td>\n      <td>0</td>\n      <td>0</td>\n      <td>0</td>\n      <td>0</td>\n      <td>...</td>\n      <td>0</td>\n      <td>0</td>\n      <td>0</td>\n      <td>0</td>\n      <td>0</td>\n      <td>0</td>\n      <td>0</td>\n      <td>0</td>\n      <td>0</td>\n      <td>0</td>\n    </tr>\n    <tr>\n      <th>1</th>\n      <td>0</td>\n      <td>0</td>\n      <td>0</td>\n      <td>0</td>\n      <td>0</td>\n      <td>0</td>\n      <td>0</td>\n      <td>0</td>\n      <td>0</td>\n      <td>0</td>\n      <td>...</td>\n      <td>0</td>\n      <td>0</td>\n      <td>0</td>\n      <td>0</td>\n      <td>0</td>\n      <td>0</td>\n      <td>0</td>\n      <td>0</td>\n      <td>0</td>\n      <td>0</td>\n    </tr>\n    <tr>\n      <th>2</th>\n      <td>0</td>\n      <td>0</td>\n      <td>0</td>\n      <td>0</td>\n      <td>0</td>\n      <td>0</td>\n      <td>0</td>\n      <td>0</td>\n      <td>0</td>\n      <td>0</td>\n      <td>...</td>\n      <td>0</td>\n      <td>0</td>\n      <td>0</td>\n      <td>0</td>\n      <td>0</td>\n      <td>0</td>\n      <td>0</td>\n      <td>0</td>\n      <td>0</td>\n      <td>0</td>\n    </tr>\n    <tr>\n      <th>3</th>\n      <td>0</td>\n      <td>0</td>\n      <td>0</td>\n      <td>0</td>\n      <td>0</td>\n      <td>0</td>\n      <td>0</td>\n      <td>0</td>\n      <td>0</td>\n      <td>0</td>\n      <td>...</td>\n      <td>0</td>\n      <td>0</td>\n      <td>0</td>\n      <td>0</td>\n      <td>0</td>\n      <td>0</td>\n      <td>0</td>\n      <td>0</td>\n      <td>0</td>\n      <td>0</td>\n    </tr>\n    <tr>\n      <th>4</th>\n      <td>0</td>\n      <td>0</td>\n      <td>0</td>\n      <td>0</td>\n      <td>0</td>\n      <td>0</td>\n      <td>0</td>\n      <td>0</td>\n      <td>0</td>\n      <td>0</td>\n      <td>...</td>\n      <td>0</td>\n      <td>0</td>\n      <td>0</td>\n      <td>0</td>\n      <td>0</td>\n      <td>0</td>\n      <td>0</td>\n      <td>0</td>\n      <td>0</td>\n      <td>0</td>\n    </tr>\n    <tr>\n      <th>...</th>\n      <td>...</td>\n      <td>...</td>\n      <td>...</td>\n      <td>...</td>\n      <td>...</td>\n      <td>...</td>\n      <td>...</td>\n      <td>...</td>\n      <td>...</td>\n      <td>...</td>\n      <td>...</td>\n      <td>...</td>\n      <td>...</td>\n      <td>...</td>\n      <td>...</td>\n      <td>...</td>\n      <td>...</td>\n      <td>...</td>\n      <td>...</td>\n      <td>...</td>\n      <td>...</td>\n    </tr>\n    <tr>\n      <th>5562</th>\n      <td>0</td>\n      <td>0</td>\n      <td>0</td>\n      <td>0</td>\n      <td>0</td>\n      <td>0</td>\n      <td>0</td>\n      <td>0</td>\n      <td>0</td>\n      <td>0</td>\n      <td>...</td>\n      <td>0</td>\n      <td>0</td>\n      <td>0</td>\n      <td>0</td>\n      <td>0</td>\n      <td>0</td>\n      <td>0</td>\n      <td>0</td>\n      <td>0</td>\n      <td>0</td>\n    </tr>\n    <tr>\n      <th>5563</th>\n      <td>0</td>\n      <td>0</td>\n      <td>0</td>\n      <td>0</td>\n      <td>0</td>\n      <td>0</td>\n      <td>0</td>\n      <td>0</td>\n      <td>0</td>\n      <td>0</td>\n      <td>...</td>\n      <td>0</td>\n      <td>0</td>\n      <td>0</td>\n      <td>0</td>\n      <td>0</td>\n      <td>0</td>\n      <td>0</td>\n      <td>0</td>\n      <td>0</td>\n      <td>0</td>\n    </tr>\n    <tr>\n      <th>5564</th>\n      <td>0</td>\n      <td>0</td>\n      <td>0</td>\n      <td>0</td>\n      <td>0</td>\n      <td>0</td>\n      <td>0</td>\n      <td>0</td>\n      <td>0</td>\n      <td>0</td>\n      <td>...</td>\n      <td>0</td>\n      <td>0</td>\n      <td>0</td>\n      <td>0</td>\n      <td>0</td>\n      <td>0</td>\n      <td>0</td>\n      <td>0</td>\n      <td>0</td>\n      <td>0</td>\n    </tr>\n    <tr>\n      <th>5565</th>\n      <td>0</td>\n      <td>0</td>\n      <td>0</td>\n      <td>0</td>\n      <td>0</td>\n      <td>0</td>\n      <td>0</td>\n      <td>0</td>\n      <td>0</td>\n      <td>0</td>\n      <td>...</td>\n      <td>0</td>\n      <td>0</td>\n      <td>0</td>\n      <td>0</td>\n      <td>0</td>\n      <td>0</td>\n      <td>0</td>\n      <td>0</td>\n      <td>0</td>\n      <td>0</td>\n    </tr>\n    <tr>\n      <th>5566</th>\n      <td>0</td>\n      <td>0</td>\n      <td>0</td>\n      <td>0</td>\n      <td>0</td>\n      <td>0</td>\n      <td>0</td>\n      <td>0</td>\n      <td>0</td>\n      <td>0</td>\n      <td>...</td>\n      <td>0</td>\n      <td>0</td>\n      <td>0</td>\n      <td>0</td>\n      <td>0</td>\n      <td>0</td>\n      <td>0</td>\n      <td>0</td>\n      <td>0</td>\n      <td>0</td>\n    </tr>\n  </tbody>\n</table>\n<p>5567 rows × 31621 columns</p>\n</div>"
     },
     "execution_count": 11,
     "metadata": {},
     "output_type": "execute_result"
    }
   ],
   "source": [
    "X_gram_counts_df = pd.DataFrame(X_gram_counts.toarray())\n",
    "X_gram_counts_df.columns = ngram_vect.get_feature_names_out()\n",
    "X_gram_counts_df"
   ],
   "metadata": {
    "collapsed": false,
    "pycharm": {
     "name": "#%%\n"
    }
   }
  },
  {
   "cell_type": "code",
   "execution_count": 12,
   "outputs": [
    {
     "data": {
      "text/plain": "please call       53\ncall later        52\nill call          48\nlet know          42\nsorry ill         39\n                  ..\ngroup mail         1\ngroup liao         1\ngroup company      1\ngroup attached     1\n〨ud evening        1\nLength: 31621, dtype: int64"
     },
     "execution_count": 12,
     "metadata": {},
     "output_type": "execute_result"
    }
   ],
   "source": [
    "X_gram_counts_df.sum().sort_values(ascending=False)"
   ],
   "metadata": {
    "collapsed": false,
    "pycharm": {
     "name": "#%%\n"
    }
   }
  },
  {
   "cell_type": "markdown",
   "source": [
    "## Term Frequency, Inverse Document Frequency (TF-IDF)\n",
    "We combine the frequency of a term in a document(text) and multiply it by the log of the inverse frequency of in how many documents that word appears.\n",
    "(for example, if a word appears in every document: log(n_documents/n_appearances) = log(1) = 0; which makes sense because that word contains no information for our purpose)\n",
    "\n",
    "This is useful to dissipate the weight of words that appear in too many documents(similar to stopwords), and also to intensify the weight of words used only in certain documents.\n",
    "It's a tradeoff where document size and total n of documents matter."
   ],
   "metadata": {
    "collapsed": false,
    "pycharm": {
     "name": "#%% md\n"
    }
   }
  },
  {
   "cell_type": "code",
   "execution_count": 14,
   "outputs": [
    {
     "data": {
      "text/plain": "     label  \\\n0     spam   \n1      ham   \n2      ham   \n3      ham   \n4      ham   \n...    ...   \n5562  spam   \n5563   ham   \n5564   ham   \n5565   ham   \n5566   ham   \n\n                                                                                                body_text  \\\n0     Free entry in 2 a wkly comp to win FA Cup final tkts 21st May 2005. Text FA to 87121 to receive ...   \n1                                           Nah I don't think he goes to usf, he lives around here though   \n2                           Even my brother is not like to speak with me. They treat me like aids patent.   \n3                                                                     I HAVE A DATE ON SUNDAY WITH WILL!!   \n4     As per your request 'Melle Melle (Oru Minnaminunginte Nurungu Vettam)' has been set as your call...   \n...                                                                                                   ...   \n5562  This is the 2nd time we have tried 2 contact u. U have won the £750 Pound prize. 2 claim is easy...   \n5563                                                                 Will ü b going to esplanade fr home?   \n5564                                            Pity, * was in mood for that. So...any other suggestions?   \n5565  The guy did some bitching but I acted like i'd be interested in buying something else next week ...   \n5566                                                                           Rofl. Its true to its name   \n\n                                                                                             cleaned_text  \n0     free entry 2 wkly comp win fa cup final tkts 21st may 2005 text fa 87121 receive entry questions...  \n1                                                                nah dont think go usf life around though  \n2                                                           even brother like speak treat like aid patent  \n3                                                                                             date sunday  \n4     per request melle melle oru minnaminunginte nurungu vettam set callertune caller press 9 copy fr...  \n...                                                                                                   ...  \n5562  2nd time tried 2 contact u u 750 pound prize 2 claim easy call 087187272008 now1 10p per minute ...  \n5563                                                                          ü b going esplanade fr home  \n5564                                                                           pity mood soany suggestion  \n5565                    guy bitching acted like id interested buying something else next week gave u free  \n5566                                                                                       rofl true name  \n\n[5567 rows x 3 columns]",
      "text/html": "<div>\n<style scoped>\n    .dataframe tbody tr th:only-of-type {\n        vertical-align: middle;\n    }\n\n    .dataframe tbody tr th {\n        vertical-align: top;\n    }\n\n    .dataframe thead th {\n        text-align: right;\n    }\n</style>\n<table border=\"1\" class=\"dataframe\">\n  <thead>\n    <tr style=\"text-align: right;\">\n      <th></th>\n      <th>label</th>\n      <th>body_text</th>\n      <th>cleaned_text</th>\n    </tr>\n  </thead>\n  <tbody>\n    <tr>\n      <th>0</th>\n      <td>spam</td>\n      <td>Free entry in 2 a wkly comp to win FA Cup final tkts 21st May 2005. Text FA to 87121 to receive ...</td>\n      <td>free entry 2 wkly comp win fa cup final tkts 21st may 2005 text fa 87121 receive entry questions...</td>\n    </tr>\n    <tr>\n      <th>1</th>\n      <td>ham</td>\n      <td>Nah I don't think he goes to usf, he lives around here though</td>\n      <td>nah dont think go usf life around though</td>\n    </tr>\n    <tr>\n      <th>2</th>\n      <td>ham</td>\n      <td>Even my brother is not like to speak with me. They treat me like aids patent.</td>\n      <td>even brother like speak treat like aid patent</td>\n    </tr>\n    <tr>\n      <th>3</th>\n      <td>ham</td>\n      <td>I HAVE A DATE ON SUNDAY WITH WILL!!</td>\n      <td>date sunday</td>\n    </tr>\n    <tr>\n      <th>4</th>\n      <td>ham</td>\n      <td>As per your request 'Melle Melle (Oru Minnaminunginte Nurungu Vettam)' has been set as your call...</td>\n      <td>per request melle melle oru minnaminunginte nurungu vettam set callertune caller press 9 copy fr...</td>\n    </tr>\n    <tr>\n      <th>...</th>\n      <td>...</td>\n      <td>...</td>\n      <td>...</td>\n    </tr>\n    <tr>\n      <th>5562</th>\n      <td>spam</td>\n      <td>This is the 2nd time we have tried 2 contact u. U have won the £750 Pound prize. 2 claim is easy...</td>\n      <td>2nd time tried 2 contact u u 750 pound prize 2 claim easy call 087187272008 now1 10p per minute ...</td>\n    </tr>\n    <tr>\n      <th>5563</th>\n      <td>ham</td>\n      <td>Will ü b going to esplanade fr home?</td>\n      <td>ü b going esplanade fr home</td>\n    </tr>\n    <tr>\n      <th>5564</th>\n      <td>ham</td>\n      <td>Pity, * was in mood for that. So...any other suggestions?</td>\n      <td>pity mood soany suggestion</td>\n    </tr>\n    <tr>\n      <th>5565</th>\n      <td>ham</td>\n      <td>The guy did some bitching but I acted like i'd be interested in buying something else next week ...</td>\n      <td>guy bitching acted like id interested buying something else next week gave u free</td>\n    </tr>\n    <tr>\n      <th>5566</th>\n      <td>ham</td>\n      <td>Rofl. Its true to its name</td>\n      <td>rofl true name</td>\n    </tr>\n  </tbody>\n</table>\n<p>5567 rows × 3 columns</p>\n</div>"
     },
     "execution_count": 14,
     "metadata": {},
     "output_type": "execute_result"
    }
   ],
   "source": [
    "from sklearn.feature_extraction.text import TfidfVectorizer\n",
    "\n",
    "data"
   ],
   "metadata": {
    "collapsed": false,
    "pycharm": {
     "name": "#%%\n"
    }
   }
  },
  {
   "cell_type": "code",
   "execution_count": 16,
   "outputs": [
    {
     "data": {
      "text/plain": "((5567, 8911),\n array(['', '0', '008704050406', ..., 'ü', 'üll', '〨ud'], dtype=object))"
     },
     "execution_count": 16,
     "metadata": {},
     "output_type": "execute_result"
    }
   ],
   "source": [
    "tfidf_vect = TfidfVectorizer(analyzer=clean_text)\n",
    "X_tfidf = tfidf_vect.fit_transform(data['body_text'])\n",
    "X_tfidf.shape, tfidf_vect.get_feature_names_out()"
   ],
   "metadata": {
    "collapsed": false,
    "pycharm": {
     "name": "#%%\n"
    }
   }
  },
  {
   "cell_type": "code",
   "execution_count": 17,
   "outputs": [
    {
     "data": {
      "text/plain": "             0  008704050406  0089my  0121  01223585236  01223585334  \\\n0     0.0  0.0           0.0     0.0   0.0          0.0          0.0   \n1     0.0  0.0           0.0     0.0   0.0          0.0          0.0   \n2     0.0  0.0           0.0     0.0   0.0          0.0          0.0   \n3     0.0  0.0           0.0     0.0   0.0          0.0          0.0   \n4     0.0  0.0           0.0     0.0   0.0          0.0          0.0   \n...   ...  ...           ...     ...   ...          ...          ...   \n5562  0.0  0.0           0.0     0.0   0.0          0.0          0.0   \n5563  0.0  0.0           0.0     0.0   0.0          0.0          0.0   \n5564  0.0  0.0           0.0     0.0   0.0          0.0          0.0   \n5565  0.0  0.0           0.0     0.0   0.0          0.0          0.0   \n5566  0.0  0.0           0.0     0.0   0.0          0.0          0.0   \n\n      0125698789   02  020603  ...  zindgi  zoe  zogtorius  zoom  zouk  zyada  \\\n0            0.0  0.0     0.0  ...     0.0  0.0        0.0   0.0   0.0    0.0   \n1            0.0  0.0     0.0  ...     0.0  0.0        0.0   0.0   0.0    0.0   \n2            0.0  0.0     0.0  ...     0.0  0.0        0.0   0.0   0.0    0.0   \n3            0.0  0.0     0.0  ...     0.0  0.0        0.0   0.0   0.0    0.0   \n4            0.0  0.0     0.0  ...     0.0  0.0        0.0   0.0   0.0    0.0   \n...          ...  ...     ...  ...     ...  ...        ...   ...   ...    ...   \n5562         0.0  0.0     0.0  ...     0.0  0.0        0.0   0.0   0.0    0.0   \n5563         0.0  0.0     0.0  ...     0.0  0.0        0.0   0.0   0.0    0.0   \n5564         0.0  0.0     0.0  ...     0.0  0.0        0.0   0.0   0.0    0.0   \n5565         0.0  0.0     0.0  ...     0.0  0.0        0.0   0.0   0.0    0.0   \n5566         0.0  0.0     0.0  ...     0.0  0.0        0.0   0.0   0.0    0.0   \n\n        é        ü  üll  〨ud  \n0     0.0  0.00000  0.0  0.0  \n1     0.0  0.00000  0.0  0.0  \n2     0.0  0.00000  0.0  0.0  \n3     0.0  0.00000  0.0  0.0  \n4     0.0  0.00000  0.0  0.0  \n...   ...      ...  ...  ...  \n5562  0.0  0.00000  0.0  0.0  \n5563  0.0  0.32906  0.0  0.0  \n5564  0.0  0.00000  0.0  0.0  \n5565  0.0  0.00000  0.0  0.0  \n5566  0.0  0.00000  0.0  0.0  \n\n[5567 rows x 8911 columns]",
      "text/html": "<div>\n<style scoped>\n    .dataframe tbody tr th:only-of-type {\n        vertical-align: middle;\n    }\n\n    .dataframe tbody tr th {\n        vertical-align: top;\n    }\n\n    .dataframe thead th {\n        text-align: right;\n    }\n</style>\n<table border=\"1\" class=\"dataframe\">\n  <thead>\n    <tr style=\"text-align: right;\">\n      <th></th>\n      <th></th>\n      <th>0</th>\n      <th>008704050406</th>\n      <th>0089my</th>\n      <th>0121</th>\n      <th>01223585236</th>\n      <th>01223585334</th>\n      <th>0125698789</th>\n      <th>02</th>\n      <th>020603</th>\n      <th>...</th>\n      <th>zindgi</th>\n      <th>zoe</th>\n      <th>zogtorius</th>\n      <th>zoom</th>\n      <th>zouk</th>\n      <th>zyada</th>\n      <th>é</th>\n      <th>ü</th>\n      <th>üll</th>\n      <th>〨ud</th>\n    </tr>\n  </thead>\n  <tbody>\n    <tr>\n      <th>0</th>\n      <td>0.0</td>\n      <td>0.0</td>\n      <td>0.0</td>\n      <td>0.0</td>\n      <td>0.0</td>\n      <td>0.0</td>\n      <td>0.0</td>\n      <td>0.0</td>\n      <td>0.0</td>\n      <td>0.0</td>\n      <td>...</td>\n      <td>0.0</td>\n      <td>0.0</td>\n      <td>0.0</td>\n      <td>0.0</td>\n      <td>0.0</td>\n      <td>0.0</td>\n      <td>0.0</td>\n      <td>0.00000</td>\n      <td>0.0</td>\n      <td>0.0</td>\n    </tr>\n    <tr>\n      <th>1</th>\n      <td>0.0</td>\n      <td>0.0</td>\n      <td>0.0</td>\n      <td>0.0</td>\n      <td>0.0</td>\n      <td>0.0</td>\n      <td>0.0</td>\n      <td>0.0</td>\n      <td>0.0</td>\n      <td>0.0</td>\n      <td>...</td>\n      <td>0.0</td>\n      <td>0.0</td>\n      <td>0.0</td>\n      <td>0.0</td>\n      <td>0.0</td>\n      <td>0.0</td>\n      <td>0.0</td>\n      <td>0.00000</td>\n      <td>0.0</td>\n      <td>0.0</td>\n    </tr>\n    <tr>\n      <th>2</th>\n      <td>0.0</td>\n      <td>0.0</td>\n      <td>0.0</td>\n      <td>0.0</td>\n      <td>0.0</td>\n      <td>0.0</td>\n      <td>0.0</td>\n      <td>0.0</td>\n      <td>0.0</td>\n      <td>0.0</td>\n      <td>...</td>\n      <td>0.0</td>\n      <td>0.0</td>\n      <td>0.0</td>\n      <td>0.0</td>\n      <td>0.0</td>\n      <td>0.0</td>\n      <td>0.0</td>\n      <td>0.00000</td>\n      <td>0.0</td>\n      <td>0.0</td>\n    </tr>\n    <tr>\n      <th>3</th>\n      <td>0.0</td>\n      <td>0.0</td>\n      <td>0.0</td>\n      <td>0.0</td>\n      <td>0.0</td>\n      <td>0.0</td>\n      <td>0.0</td>\n      <td>0.0</td>\n      <td>0.0</td>\n      <td>0.0</td>\n      <td>...</td>\n      <td>0.0</td>\n      <td>0.0</td>\n      <td>0.0</td>\n      <td>0.0</td>\n      <td>0.0</td>\n      <td>0.0</td>\n      <td>0.0</td>\n      <td>0.00000</td>\n      <td>0.0</td>\n      <td>0.0</td>\n    </tr>\n    <tr>\n      <th>4</th>\n      <td>0.0</td>\n      <td>0.0</td>\n      <td>0.0</td>\n      <td>0.0</td>\n      <td>0.0</td>\n      <td>0.0</td>\n      <td>0.0</td>\n      <td>0.0</td>\n      <td>0.0</td>\n      <td>0.0</td>\n      <td>...</td>\n      <td>0.0</td>\n      <td>0.0</td>\n      <td>0.0</td>\n      <td>0.0</td>\n      <td>0.0</td>\n      <td>0.0</td>\n      <td>0.0</td>\n      <td>0.00000</td>\n      <td>0.0</td>\n      <td>0.0</td>\n    </tr>\n    <tr>\n      <th>...</th>\n      <td>...</td>\n      <td>...</td>\n      <td>...</td>\n      <td>...</td>\n      <td>...</td>\n      <td>...</td>\n      <td>...</td>\n      <td>...</td>\n      <td>...</td>\n      <td>...</td>\n      <td>...</td>\n      <td>...</td>\n      <td>...</td>\n      <td>...</td>\n      <td>...</td>\n      <td>...</td>\n      <td>...</td>\n      <td>...</td>\n      <td>...</td>\n      <td>...</td>\n      <td>...</td>\n    </tr>\n    <tr>\n      <th>5562</th>\n      <td>0.0</td>\n      <td>0.0</td>\n      <td>0.0</td>\n      <td>0.0</td>\n      <td>0.0</td>\n      <td>0.0</td>\n      <td>0.0</td>\n      <td>0.0</td>\n      <td>0.0</td>\n      <td>0.0</td>\n      <td>...</td>\n      <td>0.0</td>\n      <td>0.0</td>\n      <td>0.0</td>\n      <td>0.0</td>\n      <td>0.0</td>\n      <td>0.0</td>\n      <td>0.0</td>\n      <td>0.00000</td>\n      <td>0.0</td>\n      <td>0.0</td>\n    </tr>\n    <tr>\n      <th>5563</th>\n      <td>0.0</td>\n      <td>0.0</td>\n      <td>0.0</td>\n      <td>0.0</td>\n      <td>0.0</td>\n      <td>0.0</td>\n      <td>0.0</td>\n      <td>0.0</td>\n      <td>0.0</td>\n      <td>0.0</td>\n      <td>...</td>\n      <td>0.0</td>\n      <td>0.0</td>\n      <td>0.0</td>\n      <td>0.0</td>\n      <td>0.0</td>\n      <td>0.0</td>\n      <td>0.0</td>\n      <td>0.32906</td>\n      <td>0.0</td>\n      <td>0.0</td>\n    </tr>\n    <tr>\n      <th>5564</th>\n      <td>0.0</td>\n      <td>0.0</td>\n      <td>0.0</td>\n      <td>0.0</td>\n      <td>0.0</td>\n      <td>0.0</td>\n      <td>0.0</td>\n      <td>0.0</td>\n      <td>0.0</td>\n      <td>0.0</td>\n      <td>...</td>\n      <td>0.0</td>\n      <td>0.0</td>\n      <td>0.0</td>\n      <td>0.0</td>\n      <td>0.0</td>\n      <td>0.0</td>\n      <td>0.0</td>\n      <td>0.00000</td>\n      <td>0.0</td>\n      <td>0.0</td>\n    </tr>\n    <tr>\n      <th>5565</th>\n      <td>0.0</td>\n      <td>0.0</td>\n      <td>0.0</td>\n      <td>0.0</td>\n      <td>0.0</td>\n      <td>0.0</td>\n      <td>0.0</td>\n      <td>0.0</td>\n      <td>0.0</td>\n      <td>0.0</td>\n      <td>...</td>\n      <td>0.0</td>\n      <td>0.0</td>\n      <td>0.0</td>\n      <td>0.0</td>\n      <td>0.0</td>\n      <td>0.0</td>\n      <td>0.0</td>\n      <td>0.00000</td>\n      <td>0.0</td>\n      <td>0.0</td>\n    </tr>\n    <tr>\n      <th>5566</th>\n      <td>0.0</td>\n      <td>0.0</td>\n      <td>0.0</td>\n      <td>0.0</td>\n      <td>0.0</td>\n      <td>0.0</td>\n      <td>0.0</td>\n      <td>0.0</td>\n      <td>0.0</td>\n      <td>0.0</td>\n      <td>...</td>\n      <td>0.0</td>\n      <td>0.0</td>\n      <td>0.0</td>\n      <td>0.0</td>\n      <td>0.0</td>\n      <td>0.0</td>\n      <td>0.0</td>\n      <td>0.00000</td>\n      <td>0.0</td>\n      <td>0.0</td>\n    </tr>\n  </tbody>\n</table>\n<p>5567 rows × 8911 columns</p>\n</div>"
     },
     "execution_count": 17,
     "metadata": {},
     "output_type": "execute_result"
    }
   ],
   "source": [
    "X_tfidf_df = pd.DataFrame(X_tfidf.toarray())\n",
    "X_tfidf_df.columns = tfidf_vect.get_feature_names_out()\n",
    "X_tfidf_df"
   ],
   "metadata": {
    "collapsed": false,
    "pycharm": {
     "name": "#%%\n"
    }
   }
  },
  {
   "cell_type": "code",
   "execution_count": 18,
   "outputs": [
    {
     "data": {
      "text/plain": "u              163.291053\ncall           107.923967\nok              93.627056\nim              92.573196\n                91.705847\n                  ...    \ntheseyours       0.096727\nrememberi        0.096727\napproaching      0.096727\ndasara           0.096727\nugadi            0.096727\nLength: 8911, dtype: float64"
     },
     "execution_count": 18,
     "metadata": {},
     "output_type": "execute_result"
    }
   ],
   "source": [
    "X_tfidf_df.sum().sort_values(ascending=False)"
   ],
   "metadata": {
    "collapsed": false,
    "pycharm": {
     "name": "#%%\n"
    }
   }
  },
  {
   "cell_type": "markdown",
   "source": [
    "## tf-idf n-grams\n",
    "Yes, we can combine these"
   ],
   "metadata": {
    "collapsed": false,
    "pycharm": {
     "name": "#%% md\n"
    }
   }
  },
  {
   "cell_type": "code",
   "execution_count": 20,
   "outputs": [
    {
     "data": {
      "text/plain": "((5567, 31621),\n array(['008704050406 sp', '0089my last', '0121 2025050', ...,\n        'üll submitting', 'üll take', '〨ud evening'], dtype=object))"
     },
     "execution_count": 20,
     "metadata": {},
     "output_type": "execute_result"
    }
   ],
   "source": [
    "tfidf_ngram_vect = TfidfVectorizer(ngram_range=(2,2))\n",
    "X_tfidf_gram = tfidf_ngram_vect.fit_transform(data['cleaned_text'])\n",
    "X_tfidf_gram.shape, tfidf_ngram_vect.get_feature_names_out()"
   ],
   "metadata": {
    "collapsed": false,
    "pycharm": {
     "name": "#%%\n"
    }
   }
  },
  {
   "cell_type": "code",
   "execution_count": 21,
   "outputs": [
    {
     "data": {
      "text/plain": "      008704050406 sp  0089my last  0121 2025050  01223585236 xx  \\\n0                 0.0          0.0           0.0             0.0   \n1                 0.0          0.0           0.0             0.0   \n2                 0.0          0.0           0.0             0.0   \n3                 0.0          0.0           0.0             0.0   \n4                 0.0          0.0           0.0             0.0   \n...               ...          ...           ...             ...   \n5562              0.0          0.0           0.0             0.0   \n5563              0.0          0.0           0.0             0.0   \n5564              0.0          0.0           0.0             0.0   \n5565              0.0          0.0           0.0             0.0   \n5566              0.0          0.0           0.0             0.0   \n\n      01223585334 cum  0125698789 ring  02 user  020603 2nd  0207 153  \\\n0                 0.0              0.0      0.0         0.0       0.0   \n1                 0.0              0.0      0.0         0.0       0.0   \n2                 0.0              0.0      0.0         0.0       0.0   \n3                 0.0              0.0      0.0         0.0       0.0   \n4                 0.0              0.0      0.0         0.0       0.0   \n...               ...              ...      ...         ...       ...   \n5562              0.0              0.0      0.0         0.0       0.0   \n5563              0.0              0.0      0.0         0.0       0.0   \n5564              0.0              0.0      0.0         0.0       0.0   \n5565              0.0              0.0      0.0         0.0       0.0   \n5566              0.0              0.0      0.0         0.0       0.0   \n\n      02072069400 bx  ...  zoe 18  zoe hit  zogtorius staring  zoom cine  \\\n0                0.0  ...     0.0      0.0                0.0        0.0   \n1                0.0  ...     0.0      0.0                0.0        0.0   \n2                0.0  ...     0.0      0.0                0.0        0.0   \n3                0.0  ...     0.0      0.0                0.0        0.0   \n4                0.0  ...     0.0      0.0                0.0        0.0   \n...              ...  ...     ...      ...                ...        ...   \n5562             0.0  ...     0.0      0.0                0.0        0.0   \n5563             0.0  ...     0.0      0.0                0.0        0.0   \n5564             0.0  ...     0.0      0.0                0.0        0.0   \n5565             0.0  ...     0.0      0.0                0.0        0.0   \n5566             0.0  ...     0.0      0.0                0.0        0.0   \n\n      zouk nichols  zyada kisi  üll finish  üll submitting  üll take  \\\n0              0.0         0.0         0.0             0.0       0.0   \n1              0.0         0.0         0.0             0.0       0.0   \n2              0.0         0.0         0.0             0.0       0.0   \n3              0.0         0.0         0.0             0.0       0.0   \n4              0.0         0.0         0.0             0.0       0.0   \n...            ...         ...         ...             ...       ...   \n5562           0.0         0.0         0.0             0.0       0.0   \n5563           0.0         0.0         0.0             0.0       0.0   \n5564           0.0         0.0         0.0             0.0       0.0   \n5565           0.0         0.0         0.0             0.0       0.0   \n5566           0.0         0.0         0.0             0.0       0.0   \n\n      〨ud evening  \n0             0.0  \n1             0.0  \n2             0.0  \n3             0.0  \n4             0.0  \n...           ...  \n5562          0.0  \n5563          0.0  \n5564          0.0  \n5565          0.0  \n5566          0.0  \n\n[5567 rows x 31621 columns]",
      "text/html": "<div>\n<style scoped>\n    .dataframe tbody tr th:only-of-type {\n        vertical-align: middle;\n    }\n\n    .dataframe tbody tr th {\n        vertical-align: top;\n    }\n\n    .dataframe thead th {\n        text-align: right;\n    }\n</style>\n<table border=\"1\" class=\"dataframe\">\n  <thead>\n    <tr style=\"text-align: right;\">\n      <th></th>\n      <th>008704050406 sp</th>\n      <th>0089my last</th>\n      <th>0121 2025050</th>\n      <th>01223585236 xx</th>\n      <th>01223585334 cum</th>\n      <th>0125698789 ring</th>\n      <th>02 user</th>\n      <th>020603 2nd</th>\n      <th>0207 153</th>\n      <th>02072069400 bx</th>\n      <th>...</th>\n      <th>zoe 18</th>\n      <th>zoe hit</th>\n      <th>zogtorius staring</th>\n      <th>zoom cine</th>\n      <th>zouk nichols</th>\n      <th>zyada kisi</th>\n      <th>üll finish</th>\n      <th>üll submitting</th>\n      <th>üll take</th>\n      <th>〨ud evening</th>\n    </tr>\n  </thead>\n  <tbody>\n    <tr>\n      <th>0</th>\n      <td>0.0</td>\n      <td>0.0</td>\n      <td>0.0</td>\n      <td>0.0</td>\n      <td>0.0</td>\n      <td>0.0</td>\n      <td>0.0</td>\n      <td>0.0</td>\n      <td>0.0</td>\n      <td>0.0</td>\n      <td>...</td>\n      <td>0.0</td>\n      <td>0.0</td>\n      <td>0.0</td>\n      <td>0.0</td>\n      <td>0.0</td>\n      <td>0.0</td>\n      <td>0.0</td>\n      <td>0.0</td>\n      <td>0.0</td>\n      <td>0.0</td>\n    </tr>\n    <tr>\n      <th>1</th>\n      <td>0.0</td>\n      <td>0.0</td>\n      <td>0.0</td>\n      <td>0.0</td>\n      <td>0.0</td>\n      <td>0.0</td>\n      <td>0.0</td>\n      <td>0.0</td>\n      <td>0.0</td>\n      <td>0.0</td>\n      <td>...</td>\n      <td>0.0</td>\n      <td>0.0</td>\n      <td>0.0</td>\n      <td>0.0</td>\n      <td>0.0</td>\n      <td>0.0</td>\n      <td>0.0</td>\n      <td>0.0</td>\n      <td>0.0</td>\n      <td>0.0</td>\n    </tr>\n    <tr>\n      <th>2</th>\n      <td>0.0</td>\n      <td>0.0</td>\n      <td>0.0</td>\n      <td>0.0</td>\n      <td>0.0</td>\n      <td>0.0</td>\n      <td>0.0</td>\n      <td>0.0</td>\n      <td>0.0</td>\n      <td>0.0</td>\n      <td>...</td>\n      <td>0.0</td>\n      <td>0.0</td>\n      <td>0.0</td>\n      <td>0.0</td>\n      <td>0.0</td>\n      <td>0.0</td>\n      <td>0.0</td>\n      <td>0.0</td>\n      <td>0.0</td>\n      <td>0.0</td>\n    </tr>\n    <tr>\n      <th>3</th>\n      <td>0.0</td>\n      <td>0.0</td>\n      <td>0.0</td>\n      <td>0.0</td>\n      <td>0.0</td>\n      <td>0.0</td>\n      <td>0.0</td>\n      <td>0.0</td>\n      <td>0.0</td>\n      <td>0.0</td>\n      <td>...</td>\n      <td>0.0</td>\n      <td>0.0</td>\n      <td>0.0</td>\n      <td>0.0</td>\n      <td>0.0</td>\n      <td>0.0</td>\n      <td>0.0</td>\n      <td>0.0</td>\n      <td>0.0</td>\n      <td>0.0</td>\n    </tr>\n    <tr>\n      <th>4</th>\n      <td>0.0</td>\n      <td>0.0</td>\n      <td>0.0</td>\n      <td>0.0</td>\n      <td>0.0</td>\n      <td>0.0</td>\n      <td>0.0</td>\n      <td>0.0</td>\n      <td>0.0</td>\n      <td>0.0</td>\n      <td>...</td>\n      <td>0.0</td>\n      <td>0.0</td>\n      <td>0.0</td>\n      <td>0.0</td>\n      <td>0.0</td>\n      <td>0.0</td>\n      <td>0.0</td>\n      <td>0.0</td>\n      <td>0.0</td>\n      <td>0.0</td>\n    </tr>\n    <tr>\n      <th>...</th>\n      <td>...</td>\n      <td>...</td>\n      <td>...</td>\n      <td>...</td>\n      <td>...</td>\n      <td>...</td>\n      <td>...</td>\n      <td>...</td>\n      <td>...</td>\n      <td>...</td>\n      <td>...</td>\n      <td>...</td>\n      <td>...</td>\n      <td>...</td>\n      <td>...</td>\n      <td>...</td>\n      <td>...</td>\n      <td>...</td>\n      <td>...</td>\n      <td>...</td>\n      <td>...</td>\n    </tr>\n    <tr>\n      <th>5562</th>\n      <td>0.0</td>\n      <td>0.0</td>\n      <td>0.0</td>\n      <td>0.0</td>\n      <td>0.0</td>\n      <td>0.0</td>\n      <td>0.0</td>\n      <td>0.0</td>\n      <td>0.0</td>\n      <td>0.0</td>\n      <td>...</td>\n      <td>0.0</td>\n      <td>0.0</td>\n      <td>0.0</td>\n      <td>0.0</td>\n      <td>0.0</td>\n      <td>0.0</td>\n      <td>0.0</td>\n      <td>0.0</td>\n      <td>0.0</td>\n      <td>0.0</td>\n    </tr>\n    <tr>\n      <th>5563</th>\n      <td>0.0</td>\n      <td>0.0</td>\n      <td>0.0</td>\n      <td>0.0</td>\n      <td>0.0</td>\n      <td>0.0</td>\n      <td>0.0</td>\n      <td>0.0</td>\n      <td>0.0</td>\n      <td>0.0</td>\n      <td>...</td>\n      <td>0.0</td>\n      <td>0.0</td>\n      <td>0.0</td>\n      <td>0.0</td>\n      <td>0.0</td>\n      <td>0.0</td>\n      <td>0.0</td>\n      <td>0.0</td>\n      <td>0.0</td>\n      <td>0.0</td>\n    </tr>\n    <tr>\n      <th>5564</th>\n      <td>0.0</td>\n      <td>0.0</td>\n      <td>0.0</td>\n      <td>0.0</td>\n      <td>0.0</td>\n      <td>0.0</td>\n      <td>0.0</td>\n      <td>0.0</td>\n      <td>0.0</td>\n      <td>0.0</td>\n      <td>...</td>\n      <td>0.0</td>\n      <td>0.0</td>\n      <td>0.0</td>\n      <td>0.0</td>\n      <td>0.0</td>\n      <td>0.0</td>\n      <td>0.0</td>\n      <td>0.0</td>\n      <td>0.0</td>\n      <td>0.0</td>\n    </tr>\n    <tr>\n      <th>5565</th>\n      <td>0.0</td>\n      <td>0.0</td>\n      <td>0.0</td>\n      <td>0.0</td>\n      <td>0.0</td>\n      <td>0.0</td>\n      <td>0.0</td>\n      <td>0.0</td>\n      <td>0.0</td>\n      <td>0.0</td>\n      <td>...</td>\n      <td>0.0</td>\n      <td>0.0</td>\n      <td>0.0</td>\n      <td>0.0</td>\n      <td>0.0</td>\n      <td>0.0</td>\n      <td>0.0</td>\n      <td>0.0</td>\n      <td>0.0</td>\n      <td>0.0</td>\n    </tr>\n    <tr>\n      <th>5566</th>\n      <td>0.0</td>\n      <td>0.0</td>\n      <td>0.0</td>\n      <td>0.0</td>\n      <td>0.0</td>\n      <td>0.0</td>\n      <td>0.0</td>\n      <td>0.0</td>\n      <td>0.0</td>\n      <td>0.0</td>\n      <td>...</td>\n      <td>0.0</td>\n      <td>0.0</td>\n      <td>0.0</td>\n      <td>0.0</td>\n      <td>0.0</td>\n      <td>0.0</td>\n      <td>0.0</td>\n      <td>0.0</td>\n      <td>0.0</td>\n      <td>0.0</td>\n    </tr>\n  </tbody>\n</table>\n<p>5567 rows × 31621 columns</p>\n</div>"
     },
     "execution_count": 21,
     "metadata": {},
     "output_type": "execute_result"
    }
   ],
   "source": [
    "X_tfidf_gram_df = pd.DataFrame(X_tfidf_gram.toarray())\n",
    "X_tfidf_gram_df.columns = tfidf_ngram_vect.get_feature_names_out()\n",
    "X_tfidf_gram_df"
   ],
   "metadata": {
    "collapsed": false,
    "pycharm": {
     "name": "#%%\n"
    }
   }
  },
  {
   "cell_type": "code",
   "execution_count": 22,
   "outputs": [
    {
     "data": {
      "text/plain": "call later            25.112877\nill call              23.761147\nsorry ill             21.302681\nplease call           12.931733\nok lor                11.145534\n                        ...    \npraise herlove         0.112426\nbeautiful lady         0.112426\nbeautiful thenwill     0.112426\ntime dreamlove         0.112426\nevery breath           0.112426\nLength: 31621, dtype: float64"
     },
     "execution_count": 22,
     "metadata": {},
     "output_type": "execute_result"
    }
   ],
   "source": [
    "X_tfidf_gram_df.sum().sort_values(ascending=False)"
   ],
   "metadata": {
    "collapsed": false,
    "pycharm": {
     "name": "#%%\n"
    }
   }
  },
  {
   "cell_type": "code",
   "execution_count": null,
   "outputs": [],
   "source": [],
   "metadata": {
    "collapsed": false,
    "pycharm": {
     "name": "#%%\n"
    }
   }
  }
 ],
 "metadata": {
  "kernelspec": {
   "display_name": "Python 3",
   "language": "python",
   "name": "python3"
  },
  "language_info": {
   "codemirror_mode": {
    "name": "ipython",
    "version": 2
   },
   "file_extension": ".py",
   "mimetype": "text/x-python",
   "name": "python",
   "nbconvert_exporter": "python",
   "pygments_lexer": "ipython2",
   "version": "2.7.6"
  }
 },
 "nbformat": 4,
 "nbformat_minor": 0
}